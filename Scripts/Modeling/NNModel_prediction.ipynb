{
  "nbformat": 4,
  "nbformat_minor": 0,
  "metadata": {
    "colab": {
      "name": "NNModel_prediction.ipynb",
      "provenance": [],
      "collapsed_sections": []
    },
    "kernelspec": {
      "name": "python3",
      "display_name": "Python 3"
    },
    "accelerator": "GPU"
  },
  "cells": [
    {
      "cell_type": "code",
      "metadata": {
        "id": "rGvES0Z0ZLDv",
        "colab_type": "code",
        "colab": {}
      },
      "source": [
        "import pandas as pd\n",
        "import numpy as np\n",
        "df_tr = pd.read_csv('selected_48_tr.csv')\n",
        "df_te = pd.read_csv('selected_48_te.csv')"
      ],
      "execution_count": 0,
      "outputs": []
    },
    {
      "cell_type": "code",
      "metadata": {
        "id": "xKIqGqJBX1_4",
        "colab_type": "code",
        "colab": {}
      },
      "source": [
        "df_train = df_tr\n",
        "df_test = df_te"
      ],
      "execution_count": 0,
      "outputs": []
    },
    {
      "cell_type": "code",
      "metadata": {
        "id": "iy1PaHg4hyS1",
        "colab_type": "code",
        "outputId": "3e0dd9da-7516-4724-edac-f6598322836e",
        "colab": {
          "base_uri": "https://localhost:8080/",
          "height": 51
        }
      },
      "source": [
        "print(df_train.shape)\n",
        "print(df_test.shape)"
      ],
      "execution_count": 0,
      "outputs": [
        {
          "output_type": "stream",
          "text": [
            "(68381, 50)\n",
            "(29307, 50)\n"
          ],
          "name": "stdout"
        }
      ]
    },
    {
      "cell_type": "code",
      "metadata": {
        "id": "KdNjXB3gjAnw",
        "colab_type": "code",
        "outputId": "80a697b6-bf78-4619-c9bc-7762c867ca5d",
        "colab": {
          "base_uri": "https://localhost:8080/",
          "height": 289
        }
      },
      "source": [
        "## calculate an_loss in both dataset\n",
        "df_train['an_loss'] = df_train['ncat']/df_train['ee']\n",
        "df_test['an_loss'] = df_test['ncat']/df_test['ee']\n",
        "print(df_train.head())\n",
        "print(df_test.head())"
      ],
      "execution_count": 0,
      "outputs": [
        {
          "output_type": "stream",
          "text": [
            "   oldmodel  cr_robb_s_1y  cr_agg_r_1y  ...  ncat      ee  an_loss\n",
            "0    339.94      1.000000     0.794118  ...     0  1.0000      0.0\n",
            "1    248.77      1.000000     0.923077  ...     0  0.0438      0.0\n",
            "2    523.65     11.006402     0.717986  ...     0  0.7973      0.0\n",
            "3    213.16    290.000000     0.730134  ...     0  1.0000      0.0\n",
            "4    214.90      1.000000     0.642857  ...     0  1.0000      0.0\n",
            "\n",
            "[5 rows x 51 columns]\n",
            "   oldmodel  cr_robb_s_1y  cr_agg_r_1y  ...  ncat      ee  an_loss\n",
            "0    252.23     22.000000     0.674699  ...     0  0.3507      0.0\n",
            "1    318.18    102.000000     0.619469  ...     0  0.0027      0.0\n",
            "2    414.08      0.000000     0.769231  ...     0  0.1776      0.0\n",
            "3    590.09     11.500701     0.717986  ...     0  1.0000      0.0\n",
            "4    214.92     11.000000     0.823899  ...     0  1.0000      0.0\n",
            "\n",
            "[5 rows x 51 columns]\n"
          ],
          "name": "stdout"
        }
      ]
    },
    {
      "cell_type": "code",
      "metadata": {
        "id": "TfUutJOb-p_b",
        "colab_type": "code",
        "colab": {}
      },
      "source": [
        "df_train = df_train.loc[:,df_train.columns != 'ee']\n",
        "#df_train = df_train.loc[:,df_train.columns != 'oldmodel']\n",
        "df_train = df_train.loc[:,df_train.columns != 'ncat']\n",
        "df_test = df_test.loc[:,df_test.columns != 'ee']\n",
        "#df_test = df_test.loc[:,df_test.columns != 'oldmodel']\n",
        "df_test = df_test.loc[:,df_test.columns != 'ncat']"
      ],
      "execution_count": 0,
      "outputs": []
    },
    {
      "cell_type": "code",
      "metadata": {
        "id": "FxeqJgsBAmQb",
        "colab_type": "code",
        "colab": {}
      },
      "source": [
        "#Combined both Train and Test Data set to do preprocessing together # and set flag for both as well\n",
        "df_train['Type'] = 1 \n",
        "df_test['Type'] = 0\n",
        "fullData = pd.concat([df_train,df_test],axis=0)"
      ],
      "execution_count": 0,
      "outputs": []
    },
    {
      "cell_type": "code",
      "metadata": {
        "id": "v-S4c29ADqOr",
        "colab_type": "code",
        "outputId": "a4e7cece-f071-4d45-f41f-2311fba800a7",
        "colab": {
          "base_uri": "https://localhost:8080/",
          "height": 272
        }
      },
      "source": [
        "fullData.head()\n",
        "fullData.shape\n",
        "fullData.columns"
      ],
      "execution_count": 0,
      "outputs": [
        {
          "output_type": "execute_result",
          "data": {
            "text/plain": [
              "Index(['oldmodel', 'cr_robb_s_1y', 'cr_agg_r_1y', 'cr_vio_s_3y', 'cr_bur_s_3y',\n",
              "       'cr_vio_r_st_3y', 'cr_bur_r_st_3y', 'cr_mtv_r_st_3y', 'cr_bur_r_3y',\n",
              "       'cr_lacy_r_3y', 'cr_mtv_r_3y', 'cr_robb_s_5y', 'cr_agg_s_5y',\n",
              "       'cr_ppty_s_5y', 'cr_vio_r_st_5y', 'cr_lacy_r_st_5y', 'cr_rape_s_10y',\n",
              "       'cr_lacy_s_10y', 'cr_rape_r_st_10y', 'cr_bur_r_st_10y',\n",
              "       'cr_mtv_r_st_10y', 'cr_vio_r_10y', 'cr_ppty_r_10y', 'cr_murd_r_10y',\n",
              "       'cr_agg_r_10y', 'cr_lacy_r_10y', 'cr_rape_s_20y', 'cr_bur_s_20y',\n",
              "       'cr_rape_r_st_20y', 'cr_bur_r_st_20y', 'cr_lacy_r_st_20y',\n",
              "       'cr_vio_r_20y', 'cr_ppty_r_20y', 'cr_lacy_r_20y', 'cr_mtv_r_20y',\n",
              "       'ltg_sp_strikes_3y', 'ltg_fa_events_3y', 'ltg_strikes_5y',\n",
              "       'ltg_sm_strikes_5y', 'ltg_wt_strikes_5y', 'ltg_wt_events_5y',\n",
              "       'ltg_strikes_10y', 'ltg_events_10y', 'ltg_sm_events_10y',\n",
              "       'ltg_wt_strikes_10y', 'ltg_st_strike_event_10y', 'ltg_nt_events_10y',\n",
              "       'ltg_sp_strike_event_20y', 'an_loss', 'Type'],\n",
              "      dtype='object')"
            ]
          },
          "metadata": {
            "tags": []
          },
          "execution_count": 52
        }
      ]
    },
    {
      "cell_type": "code",
      "metadata": {
        "id": "smdoYdUs-9Ua",
        "colab_type": "code",
        "colab": {}
      },
      "source": [
        "## Identify features and target\n",
        "#features_col = list(df_train0.columns)\n",
        "flag_col= ['Type']\n",
        "target_col = [\"an_loss\"]"
      ],
      "execution_count": 0,
      "outputs": []
    },
    {
      "cell_type": "code",
      "metadata": {
        "id": "SA10-iTr951R",
        "colab_type": "code",
        "colab": {}
      },
      "source": [
        "#Creata a validation set\n",
        "from sklearn.model_selection import train_test_split\n",
        "train=fullData.loc[fullData.Type == 1]\n",
        "test = fullData.loc[fullData.Type == 0]\n",
        "features=list(set(list(fullData.columns))-set(target_col)-set(flag_col))\n",
        "## Normalized features data\n",
        "# fullData[features] = fullData[features]/fullData[features].max()\n",
        "\n",
        "X = train[features].values\n",
        "y = train[target_col].values\n",
        "X_train, X_valid, y_train, y_valid = train_test_split(X, y, test_size=0.30, random_state=42)"
      ],
      "execution_count": 0,
      "outputs": []
    },
    {
      "cell_type": "markdown",
      "metadata": {
        "id": "SrqFQ9Q6Wwlt",
        "colab_type": "text"
      },
      "source": [
        "## Model Building using Deep Learning Model (Keras)"
      ]
    },
    {
      "cell_type": "code",
      "metadata": {
        "id": "f1rvvkfG7pu2",
        "colab_type": "code",
        "outputId": "93781bad-42bd-4a06-d267-5d93c878e5c6",
        "colab": {
          "base_uri": "https://localhost:8080/",
          "height": 255
        }
      },
      "source": [
        "# Define model\n",
        "import random\n",
        "random.seed(42)\n",
        "from tensorflow.python.keras.layers import Dense\n",
        "from tensorflow.python.keras import Sequential\n",
        "model = Sequential()\n",
        "model.add(Dense(100, input_dim=48, activation= \"relu\"))\n",
        "model.add(Dense(50, activation= 'relu'))\n",
        "model.add(Dense(1))\n",
        "model.summary() #Print model Summary"
      ],
      "execution_count": 0,
      "outputs": [
        {
          "output_type": "stream",
          "text": [
            "Model: \"sequential_3\"\n",
            "_________________________________________________________________\n",
            "Layer (type)                 Output Shape              Param #   \n",
            "=================================================================\n",
            "dense_9 (Dense)              (None, 100)               4900      \n",
            "_________________________________________________________________\n",
            "dense_10 (Dense)             (None, 50)                5050      \n",
            "_________________________________________________________________\n",
            "dense_11 (Dense)             (None, 1)                 51        \n",
            "=================================================================\n",
            "Total params: 10,001\n",
            "Trainable params: 10,001\n",
            "Non-trainable params: 0\n",
            "_________________________________________________________________\n"
          ],
          "name": "stdout"
        }
      ]
    },
    {
      "cell_type": "code",
      "metadata": {
        "id": "ulsy23lU8s2e",
        "colab_type": "code",
        "colab": {}
      },
      "source": [
        "# Compile model\n",
        "#model.compile(loss= \"mean_squared_error\" , optimizer=\"Adamax\", metrics=[\"mean_squared_error\"])\n",
        "model.compile(loss= \"mse\" , optimizer=\"adam\", metrics=[\"mse\"])"
      ],
      "execution_count": 0,
      "outputs": []
    },
    {
      "cell_type": "code",
      "metadata": {
        "id": "tKNw1K3M8xqY",
        "colab_type": "code",
        "outputId": "5a323efa-acbd-447e-8da1-beae29b2d375",
        "colab": {
          "base_uri": "https://localhost:8080/",
          "height": 136
        }
      },
      "source": [
        "# Fit Model\n",
        "model.fit(X_train, y_train, epochs=3, batch_size=33)"
      ],
      "execution_count": 0,
      "outputs": [
        {
          "output_type": "stream",
          "text": [
            "Epoch 1/3\n",
            "1451/1451 [==============================] - 5s 3ms/step - loss: 3429727744.0000 - mse: 3430939648.0000\n",
            "Epoch 2/3\n",
            "1451/1451 [==============================] - 5s 3ms/step - loss: 3432653824.0000 - mse: 3433865984.0000\n",
            "Epoch 3/3\n",
            "1451/1451 [==============================] - 5s 3ms/step - loss: 3431179264.0000 - mse: 3432398080.0000\n"
          ],
          "name": "stdout"
        },
        {
          "output_type": "execute_result",
          "data": {
            "text/plain": [
              "<tensorflow.python.keras.callbacks.History at 0x7f4520226860>"
            ]
          },
          "metadata": {
            "tags": []
          },
          "execution_count": 57
        }
      ]
    },
    {
      "cell_type": "markdown",
      "metadata": {
        "id": "GhBf4uZfXK1u",
        "colab_type": "text"
      },
      "source": [
        "## Fit nn in-sample validation "
      ]
    },
    {
      "cell_type": "code",
      "metadata": {
        "id": "FMzM7eXjHajf",
        "colab_type": "code",
        "outputId": "11d5e53a-9a0e-4926-e751-d94f4fd30b24",
        "colab": {
          "base_uri": "https://localhost:8080/",
          "height": 156
        }
      },
      "source": [
        "from sklearn.metrics import mean_squared_error\n",
        "\n",
        "model.fit(X_train, y_train, epochs=3, validation_data=(X_valid, y_valid))"
      ],
      "execution_count": 0,
      "outputs": [
        {
          "output_type": "stream",
          "text": [
            "Epoch 1/3\n",
            "1496/1496 [==============================] - 6s 4ms/step - loss: 3431397376.0000 - mse: 3431825920.0000 - val_loss: 297629152.0000 - val_mse: 298047328.0000\n",
            "Epoch 2/3\n",
            "1496/1496 [==============================] - 6s 4ms/step - loss: 3432369920.0000 - mse: 3432799744.0000 - val_loss: 298028032.0000 - val_mse: 298443808.0000\n",
            "Epoch 3/3\n",
            "1496/1496 [==============================] - 6s 4ms/step - loss: 3430427648.0000 - mse: 3430852608.0000 - val_loss: 315636768.0000 - val_mse: 315985376.0000\n"
          ],
          "name": "stdout"
        },
        {
          "output_type": "execute_result",
          "data": {
            "text/plain": [
              "<tensorflow.python.keras.callbacks.History at 0x7f44ca155a58>"
            ]
          },
          "metadata": {
            "tags": []
          },
          "execution_count": 58
        }
      ]
    },
    {
      "cell_type": "markdown",
      "metadata": {
        "id": "oItFNWNXHV0r",
        "colab_type": "text"
      },
      "source": [
        "## Test NN in test"
      ]
    },
    {
      "cell_type": "markdown",
      "metadata": {
        "id": "UhXT6YNRaCPO",
        "colab_type": "text"
      },
      "source": [
        "### put the result into one dataframe"
      ]
    },
    {
      "cell_type": "code",
      "metadata": {
        "id": "X6pIv8_rIATx",
        "colab_type": "code",
        "colab": {}
      },
      "source": [
        "#Select the independent variables for test dataset\n",
        "X_test = test[features].values\n",
        "\n",
        "#Prediction using Neural Network\n",
        "y_test_nn = model.predict(X_test)\n",
        "\n",
        "## need to change the raw df_test dataset\n",
        "ee_col_te = df_te['ee']\n",
        "ncat_te = df_te['ncat']\n",
        "\n",
        "ee_te = pd.DataFrame(ee_col_te)\n",
        "ncat_te = pd.DataFrame(ncat_te)\n",
        "pred_test_df = pd.DataFrame(y_test_nn)\n",
        "\n",
        "nn_test_df = pd.concat([ncat_te, ee_te, pred_test_df], axis=1)\n",
        "\n",
        "nn_test_df.to_csv('test31_df.csv',index = False)\n"
      ],
      "execution_count": 0,
      "outputs": []
    },
    {
      "cell_type": "markdown",
      "metadata": {
        "id": "-xr0S3RUa_uM",
        "colab_type": "text"
      },
      "source": [
        "## Save train pred to csv"
      ]
    },
    {
      "cell_type": "code",
      "metadata": {
        "id": "YStQ5z3TapXv",
        "colab_type": "code",
        "colab": {}
      },
      "source": [
        "## predict in training set\n",
        "tr = train[features].values\n",
        "pred_train = model.predict(tr)\n",
        "\n",
        "## put ee and ncat and pred to csv\n",
        "ee_col_tr = df_tr['ee']\n",
        "ncat_tr = df_tr['ncat']\n",
        "ee_tr = pd.DataFrame(ee_col_tr)\n",
        "ncat_tr = pd.DataFrame(ncat_tr)\n",
        "pred_train_df = pd.DataFrame(pred_train)\n",
        "nn_train_df = pd.concat([ncat_tr, ee_tr, pred_train_df], axis=1)\n",
        "nn_train_df.to_csv('train31_df.csv',index = False)"
      ],
      "execution_count": 0,
      "outputs": []
    },
    {
      "cell_type": "markdown",
      "metadata": {
        "id": "JRGLzgqgo0tn",
        "colab_type": "text"
      },
      "source": [
        "## evaluate the result in validation dataset(Final_valid)"
      ]
    },
    {
      "cell_type": "markdown",
      "metadata": {
        "id": "-fdLBzEHpY4B",
        "colab_type": "text"
      },
      "source": [
        "### Load the validation daset daset"
      ]
    },
    {
      "cell_type": "code",
      "metadata": {
        "id": "LryyTMflphkQ",
        "colab_type": "code",
        "colab": {}
      },
      "source": [
        "df_valid = pd.read_csv('Validation_34.csv')\n",
        "## cap in 300000\n",
        "df_valid['ncat'] = np.where(df_valid['ncat'] > 300000, 300000, df_valid['ncat'])"
      ],
      "execution_count": 0,
      "outputs": []
    },
    {
      "cell_type": "markdown",
      "metadata": {
        "id": "tvIJIYf5pzQm",
        "colab_type": "text"
      },
      "source": [
        "## predit in the validation set"
      ]
    },
    {
      "cell_type": "code",
      "metadata": {
        "id": "eZj706TUssNY",
        "colab_type": "code",
        "colab": {}
      },
      "source": [
        "## predict in validation set\n",
        "val = df_valid[features].values\n",
        "pred_val = model.predict(val)\n",
        "\n",
        "## put ee and ncat and pred to csv\n",
        "ee_col_val = df_valid['ee']\n",
        "ncat_val = df_valid['ncat']\n",
        "ee_val = pd.DataFrame(ee_col_val)\n",
        "ncat_val = pd.DataFrame(ncat_val)\n",
        "pred_val_df = pd.DataFrame(pred_val)\n",
        "nn_valid_df = pd.concat([ncat_val, ee_val, pred_val_df], axis=1)\n",
        "nn_valid_df.to_csv('valid7_df.csv',index = False)"
      ],
      "execution_count": 0,
      "outputs": []
    },
    {
      "cell_type": "markdown",
      "metadata": {
        "id": "-xqR2pJ7-px8",
        "colab_type": "text"
      },
      "source": [
        "### test in full_train and full_test"
      ]
    },
    {
      "cell_type": "code",
      "metadata": {
        "id": "9O9R1UKb-2Ua",
        "colab_type": "code",
        "colab": {}
      },
      "source": [
        "## load full train data\n",
        "df_full_tr = pd.read_csv('Train_full_34.csv')"
      ],
      "execution_count": 0,
      "outputs": []
    },
    {
      "cell_type": "code",
      "metadata": {
        "id": "djXhaWg-xIC1",
        "colab_type": "code",
        "colab": {}
      },
      "source": [
        "## predict in full_train set\n",
        "full_tr = df_full_tr[features].values\n",
        "pred_full_tr = model.predict(full_tr)\n",
        "\n",
        "## put ee and ncat and pred to csv\n",
        "ee_col_full_tr = df_full_tr['ee']\n",
        "ncat_full_tr = df_full_tr['ncat']\n",
        "ee_full_tr = pd.DataFrame(ee_col_full_tr)\n",
        "ncat_full_tr = pd.DataFrame(ncat_full_tr)\n",
        "pred_full_tr_df = pd.DataFrame(pred_full_tr)\n",
        "nn_full_tr_df = pd.concat([ncat_full_tr, ee_full_tr, pred_full_tr_df], axis=1)\n",
        "nn_full_tr_df.to_csv('full_tr7_df.csv',index = False)"
      ],
      "execution_count": 0,
      "outputs": []
    },
    {
      "cell_type": "markdown",
      "metadata": {
        "id": "ydRrvU5ABfMv",
        "colab_type": "text"
      },
      "source": [
        "## Test in full_train dataset"
      ]
    },
    {
      "cell_type": "code",
      "metadata": {
        "id": "4--khYI6B-pN",
        "colab_type": "code",
        "colab": {}
      },
      "source": [
        "## load full test dataset \n",
        "df_full_te = pd.read_csv('Test_full_34.csv')"
      ],
      "execution_count": 0,
      "outputs": []
    },
    {
      "cell_type": "code",
      "metadata": {
        "id": "mvvxDqhBB-3n",
        "colab_type": "code",
        "colab": {}
      },
      "source": [
        "## predict in full_test set\n",
        "full_te = df_full_te[features].values\n",
        "pred_full_te = model.predict(full_te)\n",
        "\n",
        "## put ee and ncat and pred to csv\n",
        "ee_col_full_te = df_full_te['ee']\n",
        "ncat_full_te = df_full_te['ncat']\n",
        "ee_full_te = pd.DataFrame(ee_col_full_te)\n",
        "ncat_full_te = pd.DataFrame(ncat_full_te)\n",
        "pred_full_te_df = pd.DataFrame(pred_full_te)\n",
        "nn_full_te_df = pd.concat([ncat_full_te, ee_full_te, pred_full_te_df], axis=1)\n",
        "nn_full_te_df.to_csv('full_te7_df.csv',index = False)"
      ],
      "execution_count": 0,
      "outputs": []
    }
  ]
}